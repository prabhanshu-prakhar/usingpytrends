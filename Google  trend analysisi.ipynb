{
 "cells": [
  {
   "cell_type": "code",
   "execution_count": 1,
   "id": "f467b8eb",
   "metadata": {},
   "outputs": [
    {
     "name": "stdout",
     "output_type": "stream",
     "text": [
      "Requirement already satisfied: pytrends in c:\\users\\prabh\\anaconda3\\lib\\site-packages (4.9.2)\n",
      "Requirement already satisfied: requests>=2.0 in c:\\users\\prabh\\anaconda3\\lib\\site-packages (from pytrends) (2.27.1)\n",
      "Requirement already satisfied: lxml in c:\\users\\prabh\\anaconda3\\lib\\site-packages (from pytrends) (4.8.0)\n",
      "Requirement already satisfied: pandas>=0.25 in c:\\users\\prabh\\anaconda3\\lib\\site-packages (from pytrends) (1.4.2)\n",
      "Requirement already satisfied: numpy>=1.18.5 in c:\\users\\prabh\\anaconda3\\lib\\site-packages (from pandas>=0.25->pytrends) (1.22.4)\n",
      "Requirement already satisfied: pytz>=2020.1 in c:\\users\\prabh\\anaconda3\\lib\\site-packages (from pandas>=0.25->pytrends) (2021.3)\n",
      "Requirement already satisfied: python-dateutil>=2.8.1 in c:\\users\\prabh\\anaconda3\\lib\\site-packages (from pandas>=0.25->pytrends) (2.8.2)\n",
      "Requirement already satisfied: six>=1.5 in c:\\users\\prabh\\anaconda3\\lib\\site-packages (from python-dateutil>=2.8.1->pandas>=0.25->pytrends) (1.16.0)\n",
      "Requirement already satisfied: charset-normalizer~=2.0.0 in c:\\users\\prabh\\anaconda3\\lib\\site-packages (from requests>=2.0->pytrends) (2.0.4)\n",
      "Requirement already satisfied: idna<4,>=2.5 in c:\\users\\prabh\\anaconda3\\lib\\site-packages (from requests>=2.0->pytrends) (3.3)\n",
      "Requirement already satisfied: urllib3<1.27,>=1.21.1 in c:\\users\\prabh\\anaconda3\\lib\\site-packages (from requests>=2.0->pytrends) (1.26.9)\n",
      "Requirement already satisfied: certifi>=2017.4.17 in c:\\users\\prabh\\anaconda3\\lib\\site-packages (from requests>=2.0->pytrends) (2021.10.8)\n",
      "Note: you may need to restart the kernel to use updated packages.\n"
     ]
    }
   ],
   "source": [
    "pip install pytrends"
   ]
  },
  {
   "cell_type": "code",
   "execution_count": 2,
   "id": "1156220c",
   "metadata": {},
   "outputs": [],
   "source": [
    "import pandas as ps\n",
    "from pytrends.request import TrendReq\n",
    "import matplotlib.pyplot as plt\n",
    "Trending_topics = TrendReq(hl='en-IN', tz=330)"
   ]
  },
  {
   "cell_type": "code",
   "execution_count": 3,
   "id": "c3bbb348",
   "metadata": {},
   "outputs": [],
   "source": [
    "kw_list=[\"Artifical Intelligence\"] \n",
    "Trending_topics.build_payload(kw_list, cat=0, timeframe='today 1-m', geo='IN')\n"
   ]
  },
  {
   "cell_type": "code",
   "execution_count": 4,
   "id": "13f130c3",
   "metadata": {},
   "outputs": [
    {
     "name": "stdout",
     "output_type": "stream",
     "text": [
      "            Artifical Intelligence  isPartial\n",
      "date                                         \n",
      "2024-07-24                       0      False\n",
      "2024-07-25                       0      False\n",
      "2024-07-26                       0      False\n",
      "2024-07-27                       0      False\n",
      "2024-07-28                       0      False\n",
      "2024-07-29                       0      False\n",
      "2024-07-30                       0      False\n",
      "2024-07-31                       0      False\n",
      "2024-08-01                       0      False\n",
      "2024-08-02                       0      False\n",
      "2024-08-03                       0      False\n",
      "2024-08-04                       0      False\n",
      "2024-08-05                       0      False\n",
      "2024-08-06                       0      False\n",
      "2024-08-07                       0      False\n",
      "2024-08-08                       0      False\n",
      "2024-08-09                       0      False\n",
      "2024-08-10                      56      False\n",
      "2024-08-11                      68      False\n",
      "2024-08-12                      70      False\n",
      "2024-08-13                      77      False\n",
      "2024-08-14                      58      False\n",
      "2024-08-15                      54      False\n",
      "2024-08-16                      72      False\n",
      "2024-08-17                      49      False\n",
      "2024-08-18                      38      False\n",
      "2024-08-19                      61      False\n",
      "2024-08-20                      76      False\n",
      "2024-08-21                      78      False\n",
      "2024-08-22                     100      False\n",
      "2024-08-23                      63      False\n",
      "2024-08-24                      60       True\n"
     ]
    }
   ],
   "source": [
    "data = Trending_topics.interest_over_time()\n",
    "sorted_data = data.sort_values(by=\"Artifical Intelligence\", ascending=False)\n",
    "\n",
    "data = data.head(100)\n",
    "print(data)"
   ]
  },
  {
   "cell_type": "code",
   "execution_count": 5,
   "id": "e8d80b1a",
   "metadata": {},
   "outputs": [
    {
     "name": "stdout",
     "output_type": "stream",
     "text": [
      "            Artifical Intelligence  isPartial\n",
      "date                                         \n",
      "2024-08-22                     100      False\n",
      "2024-08-21                      78      False\n",
      "2024-08-13                      77      False\n",
      "2024-08-20                      76      False\n",
      "2024-08-16                      72      False\n",
      "2024-08-12                      70      False\n",
      "2024-08-11                      68      False\n",
      "2024-08-23                      63      False\n",
      "2024-08-19                      61      False\n",
      "2024-08-24                      60       True\n",
      "2024-08-14                      58      False\n",
      "2024-08-10                      56      False\n",
      "2024-08-15                      54      False\n",
      "2024-08-17                      49      False\n",
      "2024-08-18                      38      False\n",
      "2024-07-25                       0      False\n",
      "2024-07-24                       0      False\n",
      "2024-08-08                       0      False\n",
      "2024-08-07                       0      False\n",
      "2024-08-06                       0      False\n",
      "2024-08-05                       0      False\n",
      "2024-08-04                       0      False\n",
      "2024-08-03                       0      False\n",
      "2024-08-02                       0      False\n",
      "2024-08-01                       0      False\n",
      "2024-07-31                       0      False\n",
      "2024-07-30                       0      False\n",
      "2024-07-29                       0      False\n",
      "2024-07-28                       0      False\n",
      "2024-07-27                       0      False\n",
      "2024-07-26                       0      False\n",
      "2024-08-09                       0      False\n"
     ]
    }
   ],
   "source": [
    "sorted_data = data.sort_values(by=\"Artifical Intelligence\", ascending=False)\n",
    "top_100_data = sorted_data.head(100)\n",
    "    \n",
    "print(top_100_data)\n"
   ]
  },
  {
   "cell_type": "code",
   "execution_count": 7,
   "id": "c9ce92cf",
   "metadata": {},
   "outputs": [
    {
     "name": "stdout",
     "output_type": "stream",
     "text": [
      "                 Artifical Intelligence\n",
      "geoName                                \n",
      "Jammu & Kashmir                     100\n",
      "Maharashtra                         100\n",
      "Uttarakhand                          62\n",
      "Telangana                            50\n",
      "Kerala                               50\n",
      "Tamil Nadu                           37\n",
      "Andhra Pradesh                       37\n",
      "Delhi                                37\n",
      "Punjab                               37\n",
      "Karnataka                            37\n"
     ]
    }
   ],
   "source": [
    "data = Trending_topics.interest_by_region() \n",
    "data = data.sort_values(by=\"Artifical Intelligence\",ascending = False) \n",
    "data = data.head(10) \n",
    "print(data)"
   ]
  },
  {
   "cell_type": "code",
   "execution_count": 9,
   "id": "51692e13",
   "metadata": {},
   "outputs": [
    {
     "data": {
      "image/png": "[encoded data removed]",
      "text/plain": [
       "<Figure size 720x360 with 1 Axes>"
      ]
     },
     "metadata": {
      "needs_background": "light"
     },
     "output_type": "display_data"
    }
   ],
   "source": [
    "data.reset_index().plot(x=\"geoName\", y=\"Artifical Intelligence\",figsize=(10,5), kind=\"bar\") \n",
    "plt.style.use('fivethirtyeight') \n",
    "plt.show()\n"
   ]
  },
  {
   "cell_type": "code",
   "execution_count": 13,
   "id": "0e85407e",
   "metadata": {},
   "outputs": [
    {
     "data": {
      "text/html": [
       "<div>\n",
       "<style scoped>\n",
       "    .dataframe tbody tr th:only-of-type {\n",
       "        vertical-align: middle;\n",
       "    }\n",
       "\n",
       "    .dataframe tbody tr th {\n",
       "        vertical-align: top;\n",
       "    }\n",
       "\n",
       "    .dataframe thead th {\n",
       "        text-align: right;\n",
       "    }\n",
       "</style>\n",
       "<table border=\"1\" class=\"dataframe\">\n",
       "  <thead>\n",
       "    <tr style=\"text-align: right;\">\n",
       "      <th></th>\n",
       "      <th>title</th>\n",
       "      <th>exploreQuery</th>\n",
       "    </tr>\n",
       "  </thead>\n",
       "  <tbody>\n",
       "    <tr>\n",
       "      <th>0</th>\n",
       "      <td>Coronavirus</td>\n",
       "      <td></td>\n",
       "    </tr>\n",
       "    <tr>\n",
       "      <th>1</th>\n",
       "      <td>Election results</td>\n",
       "      <td></td>\n",
       "    </tr>\n",
       "    <tr>\n",
       "      <th>2</th>\n",
       "      <td>Kobe Bryant</td>\n",
       "      <td></td>\n",
       "    </tr>\n",
       "    <tr>\n",
       "      <th>3</th>\n",
       "      <td>Zoom</td>\n",
       "      <td></td>\n",
       "    </tr>\n",
       "    <tr>\n",
       "      <th>4</th>\n",
       "      <td>IPL</td>\n",
       "      <td></td>\n",
       "    </tr>\n",
       "    <tr>\n",
       "      <th>5</th>\n",
       "      <td>India vs New Zealand</td>\n",
       "      <td></td>\n",
       "    </tr>\n",
       "    <tr>\n",
       "      <th>6</th>\n",
       "      <td>Coronavirus update</td>\n",
       "      <td></td>\n",
       "    </tr>\n",
       "    <tr>\n",
       "      <th>7</th>\n",
       "      <td>Coronavirus symptoms</td>\n",
       "      <td></td>\n",
       "    </tr>\n",
       "    <tr>\n",
       "      <th>8</th>\n",
       "      <td>Joe Biden</td>\n",
       "      <td></td>\n",
       "    </tr>\n",
       "    <tr>\n",
       "      <th>9</th>\n",
       "      <td>Google Classroom</td>\n",
       "      <td></td>\n",
       "    </tr>\n",
       "  </tbody>\n",
       "</table>\n",
       "</div>"
      ],
      "text/plain": [
       "                  title exploreQuery\n",
       "0           Coronavirus             \n",
       "1      Election results             \n",
       "2           Kobe Bryant             \n",
       "3                  Zoom             \n",
       "4                   IPL             \n",
       "5  India vs New Zealand             \n",
       "6    Coronavirus update             \n",
       "7  Coronavirus symptoms             \n",
       "8             Joe Biden             \n",
       "9      Google Classroom             "
      ]
     },
     "execution_count": 13,
     "metadata": {},
     "output_type": "execute_result"
    }
   ],
   "source": [
    "df = Trending_topics.top_charts(2020, hl='en-IN',tz=300, geo='GLOBAL') \n",
    "df.head(10) "
   ]
  },
  {
   "cell_type": "code",
   "execution_count": 25,
   "id": "5336d554",
   "metadata": {},
   "outputs": [
    {
     "data": {
      "text/html": [
       "<div>\n",
       "<style scoped>\n",
       "    .dataframe tbody tr th:only-of-type {\n",
       "        vertical-align: middle;\n",
       "    }\n",
       "\n",
       "    .dataframe tbody tr th {\n",
       "        vertical-align: top;\n",
       "    }\n",
       "\n",
       "    .dataframe thead th {\n",
       "        text-align: right;\n",
       "    }\n",
       "</style>\n",
       "<table border=\"1\" class=\"dataframe\">\n",
       "  <thead>\n",
       "    <tr style=\"text-align: right;\">\n",
       "      <th></th>\n",
       "      <th>title</th>\n",
       "      <th>type</th>\n",
       "    </tr>\n",
       "  </thead>\n",
       "  <tbody>\n",
       "    <tr>\n",
       "      <th>0</th>\n",
       "      <td>Artificial intelligence</td>\n",
       "      <td>Field of study</td>\n",
       "    </tr>\n",
       "    <tr>\n",
       "      <th>1</th>\n",
       "      <td>Artificial intelligence art</td>\n",
       "      <td>Topic</td>\n",
       "    </tr>\n",
       "    <tr>\n",
       "      <th>2</th>\n",
       "      <td>A.I. Artificial Intelligence</td>\n",
       "      <td>2001 film</td>\n",
       "    </tr>\n",
       "    <tr>\n",
       "      <th>3</th>\n",
       "      <td>Artificial Intelligence Act</td>\n",
       "      <td>Topic</td>\n",
       "    </tr>\n",
       "    <tr>\n",
       "      <th>4</th>\n",
       "      <td>Applications of artificial intelligence</td>\n",
       "      <td>Topic</td>\n",
       "    </tr>\n",
       "  </tbody>\n",
       "</table>\n",
       "</div>"
      ],
      "text/plain": [
       "                                     title            type\n",
       "0                  Artificial intelligence  Field of study\n",
       "1              Artificial intelligence art           Topic\n",
       "2             A.I. Artificial Intelligence       2001 film\n",
       "3              Artificial Intelligence Act           Topic\n",
       "4  Applications of artificial intelligence           Topic"
      ]
     },
     "execution_count": 25,
     "metadata": {},
     "output_type": "execute_result"
    }
   ],
   "source": [
    "import pandas as pd\n",
    "keywords = Trending_topics.suggestions( keyword='Artificial Intelligence') \n",
    "df = pd.DataFrame(keywords) \n",
    "df.drop(columns= 'mid')\n"
   ]
  },
  {
   "cell_type": "code",
   "execution_count": null,
   "id": "e043c19e",
   "metadata": {},
   "outputs": [],
   "source": []
  },
  {
   "cell_type": "code",
   "execution_count": null,
   "id": "07bf34e9",
   "metadata": {},
   "outputs": [],
   "source": []
  },
  {
   "cell_type": "code",
   "execution_count": null,
   "id": "c7feae82",
   "metadata": {},
   "outputs": [],
   "source": []
  },
  {
   "cell_type": "code",
   "execution_count": null,
   "id": "b0e193c3",
   "metadata": {},
   "outputs": [],
   "source": []
  }
 ],
 "metadata": {
  "kernelspec": {
   "display_name": "Python 3 (ipykernel)",
   "language": "python",
   "name": "python3"
  },
  "language_info": {
   "codemirror_mode": {
    "name": "ipython",
    "version": 3
   },
   "file_extension": ".py",
   "mimetype": "text/x-python",
   "name": "python",
   "nbconvert_exporter": "python",
   "pygments_lexer": "ipython3",
   "version": "3.9.12"
  }
 },
 "nbformat": 4,
 "nbformat_minor": 5
}
